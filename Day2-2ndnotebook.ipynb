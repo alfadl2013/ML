{
 "cells": [
  {
   "cell_type": "markdown",
   "metadata": {},
   "source": []
  },
  {
   "cell_type": "markdown",
   "metadata": {},
   "source": [
    "# <a name=\"0\">MLA TAB DAY 1: Data Processing and ML Model Development</a>\n",
    "\n",
    "## Exploratory data analysis\n",
    "\n",
    "### Sample Problem: Detecting Products with Electrical Plugs in Amazon Marketplace Products\n",
    "\n",
    "In this notebook, we explore an Amazon dataset. In some marketplaces, ASINs having electrical plugs need to be accompanied by a compliance form. Thus it is desirable to identify ASINs with an electrical plug.\n",
    "\n",
    "1. <a href=\"#1\">Read the dataset</a>\n",
    "2. <a href=\"#2\">Overall Statistics</a>\n",
    "3. <a href=\"#3\">Univariate Statistics: Basic Plots</a>\n",
    "4. <a href=\"#4\">Multivariate Statistics: Scatter Plots and Correlations</a>\n",
    "5. <a href=\"#5\">Handling Missing Values</a>\n",
    "    * <a href=\"#51\">Drop columns with missing values</a>\n",
    "    * <a href=\"#52\">Drop rows with missing values</a>\n",
    "    * <a href=\"#53\"> Impute (fill-in) missing values with .fillna()</a>\n",
    "    * <a href=\"#54\"> Impute (fill-in) missing values with sklearn's SimpleImputer</a>\n",
    "    \n",
    "__Data schema:__ \n",
    "- __ASIN__: Product ASIN\n",
    "- __target_label:__ Binary field with values in {0,1}. A value of 1 show ASIN has a plug, otherwise 0.\n",
    "- __ASIN_STATIC_ITEM_NAME:__ Title of the ASIN.\n",
    "- __ASIN_STATIC_PRODUCT_DESCRIPTION:__ Description of the ASIN\n",
    "- __ASIN_STATIC_GL_PRODUCT_GROUP_TYPE:__ GL information for the ASIN.\n",
    "- __ASIN_STATIC_ITEM_PACKAGE_WEIGHT:__ Weight of the ASIN.\n",
    "- __ASIN_STATIC_LIST_PRICE:__ Price information for the ASIN.\n",
    "- __ASIN_STATIC_BATTERIES_INCLUDED:__ Information whether batteries are included along with the product.\n",
    "- __ASIN_STATIC_BATTERIES_REQUIRED:__ Information whether batteries are required for using the product.\n",
    "- __ASIN_STATIC_ITEM_CLASSIFICATION:__ Item classification of whether it is a standalone or bundle parent item etc"
   ]
  },
  {
   "cell_type": "markdown",
   "metadata": {},
   "source": [
    "## 1. <a name=\"1\">Read the dataset</a>\n",
    "(<a href=\"#0\">Go to top</a>)\n",
    "\n",
    "Let's read the dataset into a dataframe, using Pandas."
   ]
  },
  {
   "cell_type": "code",
   "execution_count": 1,
   "metadata": {},
   "outputs": [
    {
     "name": "stdout",
     "output_type": "stream",
     "text": [
      "The shape of the dataset is: (61233, 10)\n"
     ]
    }
   ],
   "source": [
    "import pandas as pd\n",
    "\n",
    "import warnings\n",
    "warnings.filterwarnings(\"ignore\")\n",
    "  \n",
    "df = pd.read_csv('../data/review/asin_electrical_plug.csv')\n",
    "\n",
    "print('The shape of the dataset is:', df.shape)"
   ]
  },
  {
   "cell_type": "markdown",
   "metadata": {},
   "source": [
    "## 2. <a name=\"2\">Overall Statistics</a>\n",
    "(<a href=\"#0\">Go to top</a>)\n",
    "\n",
    "We will look at number of rows, columns and some simple statistics of the dataset."
   ]
  },
  {
   "cell_type": "code",
   "execution_count": 2,
   "metadata": {},
   "outputs": [
    {
     "data": {
      "text/html": [
       "<div>\n",
       "<style scoped>\n",
       "    .dataframe tbody tr th:only-of-type {\n",
       "        vertical-align: middle;\n",
       "    }\n",
       "\n",
       "    .dataframe tbody tr th {\n",
       "        vertical-align: top;\n",
       "    }\n",
       "\n",
       "    .dataframe thead th {\n",
       "        text-align: right;\n",
       "    }\n",
       "</style>\n",
       "<table border=\"1\" class=\"dataframe\">\n",
       "  <thead>\n",
       "    <tr style=\"text-align: right;\">\n",
       "      <th></th>\n",
       "      <th>ASIN</th>\n",
       "      <th>target_label</th>\n",
       "      <th>ASIN_STATIC_ITEM_NAME</th>\n",
       "      <th>ASIN_STATIC_PRODUCT_DESCRIPTION</th>\n",
       "      <th>ASIN_STATIC_GL_PRODUCT_GROUP_TYPE</th>\n",
       "      <th>ASIN_STATIC_ITEM_PACKAGE_WEIGHT</th>\n",
       "      <th>ASIN_STATIC_LIST_PRICE</th>\n",
       "      <th>ASIN_STATIC_BATTERIES_INCLUDED</th>\n",
       "      <th>ASIN_STATIC_BATTERIES_REQUIRED</th>\n",
       "      <th>ASIN_STATIC_ITEM_CLASSIFICATION</th>\n",
       "    </tr>\n",
       "  </thead>\n",
       "  <tbody>\n",
       "    <tr>\n",
       "      <th>0</th>\n",
       "      <td>B004U9MOWO</td>\n",
       "      <td>0</td>\n",
       "      <td>Master Lock 8 X 900 mm Chain Integrated 4 Digi...</td>\n",
       "      <td>Master Lock Street Flexium 900mm Integrated Co...</td>\n",
       "      <td>gl_sports</td>\n",
       "      <td>2.650000</td>\n",
       "      <td>16.66</td>\n",
       "      <td>False</td>\n",
       "      <td>False</td>\n",
       "      <td>base_product</td>\n",
       "    </tr>\n",
       "    <tr>\n",
       "      <th>1</th>\n",
       "      <td>B006OJWZMW</td>\n",
       "      <td>0</td>\n",
       "      <td>In Phase SRX-EQ 10 Band Parametric Equalizer w...</td>\n",
       "      <td>NaN</td>\n",
       "      <td>gl_wireless</td>\n",
       "      <td>1.680000</td>\n",
       "      <td>158.33</td>\n",
       "      <td>False</td>\n",
       "      <td>False</td>\n",
       "      <td>base_product</td>\n",
       "    </tr>\n",
       "    <tr>\n",
       "      <th>2</th>\n",
       "      <td>B00008VIJ4</td>\n",
       "      <td>0</td>\n",
       "      <td>Technics RPDJ1210 DJ Headphones - Silver</td>\n",
       "      <td>Plated Connector:Gold, Connector Type:Headphon...</td>\n",
       "      <td>gl_home_entertainment</td>\n",
       "      <td>1.455036</td>\n",
       "      <td>NaN</td>\n",
       "      <td>False</td>\n",
       "      <td>False</td>\n",
       "      <td>base_product</td>\n",
       "    </tr>\n",
       "    <tr>\n",
       "      <th>3</th>\n",
       "      <td>B005433T4M</td>\n",
       "      <td>0</td>\n",
       "      <td>Heartwarmers Coming Home Padded Lap Tray, 42 x...</td>\n",
       "      <td>NaN</td>\n",
       "      <td>gl_home</td>\n",
       "      <td>1.763680</td>\n",
       "      <td>12.49</td>\n",
       "      <td>False</td>\n",
       "      <td>NaN</td>\n",
       "      <td>base_product</td>\n",
       "    </tr>\n",
       "    <tr>\n",
       "      <th>4</th>\n",
       "      <td>B0073CN63Q</td>\n",
       "      <td>0</td>\n",
       "      <td>Douceur D'Intérieur  - 1600728, Curtain With E...</td>\n",
       "      <td>NaN</td>\n",
       "      <td>gl_home</td>\n",
       "      <td>2.292784</td>\n",
       "      <td>25.42</td>\n",
       "      <td>False</td>\n",
       "      <td>False</td>\n",
       "      <td>base_product</td>\n",
       "    </tr>\n",
       "    <tr>\n",
       "      <th>5</th>\n",
       "      <td>B00F5223QM</td>\n",
       "      <td>0</td>\n",
       "      <td>Legler Lamborghini Aventador LP700 Plastic Model</td>\n",
       "      <td>A car for stars and super rich ones! In matt b...</td>\n",
       "      <td>gl_toy</td>\n",
       "      <td>5.070580</td>\n",
       "      <td>NaN</td>\n",
       "      <td>False</td>\n",
       "      <td>True</td>\n",
       "      <td>base_product</td>\n",
       "    </tr>\n",
       "    <tr>\n",
       "      <th>6</th>\n",
       "      <td>B00MGT8FAA</td>\n",
       "      <td>0</td>\n",
       "      <td>MARTY Food for Cannaries</td>\n",
       "      <td>NaN</td>\n",
       "      <td>gl_pet_products</td>\n",
       "      <td>2.292784</td>\n",
       "      <td>NaN</td>\n",
       "      <td>False</td>\n",
       "      <td>NaN</td>\n",
       "      <td>base_product</td>\n",
       "    </tr>\n",
       "    <tr>\n",
       "      <th>7</th>\n",
       "      <td>B003ESVCGG</td>\n",
       "      <td>0</td>\n",
       "      <td>Apiro 150006 Twin Square Car Exhaust Tip</td>\n",
       "      <td>Exhaust Back Box, Stainless Steel, Universal S...</td>\n",
       "      <td>gl_automotive</td>\n",
       "      <td>9.347505</td>\n",
       "      <td>NaN</td>\n",
       "      <td>NaN</td>\n",
       "      <td>NaN</td>\n",
       "      <td>base_product</td>\n",
       "    </tr>\n",
       "    <tr>\n",
       "      <th>8</th>\n",
       "      <td>B00187PYTQ</td>\n",
       "      <td>0</td>\n",
       "      <td>Bresser spotting scope Pirsch 20-60x80</td>\n",
       "      <td>&lt;b&gt;Bresser are proud to introduce their latest...</td>\n",
       "      <td>gl_camera</td>\n",
       "      <td>5.950000</td>\n",
       "      <td>NaN</td>\n",
       "      <td>False</td>\n",
       "      <td>True</td>\n",
       "      <td>base_product</td>\n",
       "    </tr>\n",
       "    <tr>\n",
       "      <th>9</th>\n",
       "      <td>B00074U7VQ</td>\n",
       "      <td>0</td>\n",
       "      <td>Small Foot Company 1710 Garden Tool Bag</td>\n",
       "      <td>Garden Bag - dark&lt;br/&gt;</td>\n",
       "      <td>gl_toy</td>\n",
       "      <td>1.719588</td>\n",
       "      <td>NaN</td>\n",
       "      <td>False</td>\n",
       "      <td>False</td>\n",
       "      <td>base_product</td>\n",
       "    </tr>\n",
       "  </tbody>\n",
       "</table>\n",
       "</div>"
      ],
      "text/plain": [
       "         ASIN  target_label  \\\n",
       "0  B004U9MOWO             0   \n",
       "1  B006OJWZMW             0   \n",
       "2  B00008VIJ4             0   \n",
       "3  B005433T4M             0   \n",
       "4  B0073CN63Q             0   \n",
       "5  B00F5223QM             0   \n",
       "6  B00MGT8FAA             0   \n",
       "7  B003ESVCGG             0   \n",
       "8  B00187PYTQ             0   \n",
       "9  B00074U7VQ             0   \n",
       "\n",
       "                               ASIN_STATIC_ITEM_NAME  \\\n",
       "0  Master Lock 8 X 900 mm Chain Integrated 4 Digi...   \n",
       "1  In Phase SRX-EQ 10 Band Parametric Equalizer w...   \n",
       "2           Technics RPDJ1210 DJ Headphones - Silver   \n",
       "3  Heartwarmers Coming Home Padded Lap Tray, 42 x...   \n",
       "4  Douceur D'Intérieur  - 1600728, Curtain With E...   \n",
       "5   Legler Lamborghini Aventador LP700 Plastic Model   \n",
       "6                           MARTY Food for Cannaries   \n",
       "7           Apiro 150006 Twin Square Car Exhaust Tip   \n",
       "8             Bresser spotting scope Pirsch 20-60x80   \n",
       "9            Small Foot Company 1710 Garden Tool Bag   \n",
       "\n",
       "                     ASIN_STATIC_PRODUCT_DESCRIPTION  \\\n",
       "0  Master Lock Street Flexium 900mm Integrated Co...   \n",
       "1                                                NaN   \n",
       "2  Plated Connector:Gold, Connector Type:Headphon...   \n",
       "3                                                NaN   \n",
       "4                                                NaN   \n",
       "5  A car for stars and super rich ones! In matt b...   \n",
       "6                                                NaN   \n",
       "7  Exhaust Back Box, Stainless Steel, Universal S...   \n",
       "8  <b>Bresser are proud to introduce their latest...   \n",
       "9                             Garden Bag - dark<br/>   \n",
       "\n",
       "  ASIN_STATIC_GL_PRODUCT_GROUP_TYPE  ASIN_STATIC_ITEM_PACKAGE_WEIGHT  \\\n",
       "0                         gl_sports                         2.650000   \n",
       "1                       gl_wireless                         1.680000   \n",
       "2             gl_home_entertainment                         1.455036   \n",
       "3                           gl_home                         1.763680   \n",
       "4                           gl_home                         2.292784   \n",
       "5                            gl_toy                         5.070580   \n",
       "6                   gl_pet_products                         2.292784   \n",
       "7                     gl_automotive                         9.347505   \n",
       "8                         gl_camera                         5.950000   \n",
       "9                            gl_toy                         1.719588   \n",
       "\n",
       "   ASIN_STATIC_LIST_PRICE ASIN_STATIC_BATTERIES_INCLUDED  \\\n",
       "0                   16.66                          False   \n",
       "1                  158.33                          False   \n",
       "2                     NaN                          False   \n",
       "3                   12.49                          False   \n",
       "4                   25.42                          False   \n",
       "5                     NaN                          False   \n",
       "6                     NaN                          False   \n",
       "7                     NaN                            NaN   \n",
       "8                     NaN                          False   \n",
       "9                     NaN                          False   \n",
       "\n",
       "  ASIN_STATIC_BATTERIES_REQUIRED ASIN_STATIC_ITEM_CLASSIFICATION  \n",
       "0                          False                    base_product  \n",
       "1                          False                    base_product  \n",
       "2                          False                    base_product  \n",
       "3                            NaN                    base_product  \n",
       "4                          False                    base_product  \n",
       "5                           True                    base_product  \n",
       "6                            NaN                    base_product  \n",
       "7                            NaN                    base_product  \n",
       "8                           True                    base_product  \n",
       "9                          False                    base_product  "
      ]
     },
     "execution_count": 2,
     "metadata": {},
     "output_type": "execute_result"
    }
   ],
   "source": [
    "# Print the first five rows\n",
    "# NaN means missing data\n",
    "df.head(10)"
   ]
  },
  {
   "cell_type": "code",
   "execution_count": 3,
   "metadata": {},
   "outputs": [
    {
     "name": "stdout",
     "output_type": "stream",
     "text": [
      "<class 'pandas.core.frame.DataFrame'>\n",
      "RangeIndex: 61233 entries, 0 to 61232\n",
      "Data columns (total 10 columns):\n",
      "ASIN                                 61233 non-null object\n",
      "target_label                         61233 non-null int64\n",
      "ASIN_STATIC_ITEM_NAME                61233 non-null object\n",
      "ASIN_STATIC_PRODUCT_DESCRIPTION      35261 non-null object\n",
      "ASIN_STATIC_GL_PRODUCT_GROUP_TYPE    61233 non-null object\n",
      "ASIN_STATIC_ITEM_PACKAGE_WEIGHT      61141 non-null float64\n",
      "ASIN_STATIC_LIST_PRICE               45741 non-null float64\n",
      "ASIN_STATIC_BATTERIES_INCLUDED       50058 non-null object\n",
      "ASIN_STATIC_BATTERIES_REQUIRED       45229 non-null object\n",
      "ASIN_STATIC_ITEM_CLASSIFICATION      61221 non-null object\n",
      "dtypes: float64(2), int64(1), object(7)\n",
      "memory usage: 4.7+ MB\n"
     ]
    }
   ],
   "source": [
    "# Let's see the data types and non-null values for each column\n",
    "df.info()"
   ]
  },
  {
   "cell_type": "code",
   "execution_count": null,
   "metadata": {},
   "outputs": [],
   "source": []
  },
  {
   "cell_type": "code",
   "execution_count": 4,
   "metadata": {},
   "outputs": [
    {
     "data": {
      "text/html": [
       "<div>\n",
       "<style scoped>\n",
       "    .dataframe tbody tr th:only-of-type {\n",
       "        vertical-align: middle;\n",
       "    }\n",
       "\n",
       "    .dataframe tbody tr th {\n",
       "        vertical-align: top;\n",
       "    }\n",
       "\n",
       "    .dataframe thead th {\n",
       "        text-align: right;\n",
       "    }\n",
       "</style>\n",
       "<table border=\"1\" class=\"dataframe\">\n",
       "  <thead>\n",
       "    <tr style=\"text-align: right;\">\n",
       "      <th></th>\n",
       "      <th>target_label</th>\n",
       "      <th>ASIN_STATIC_ITEM_PACKAGE_WEIGHT</th>\n",
       "      <th>ASIN_STATIC_LIST_PRICE</th>\n",
       "    </tr>\n",
       "  </thead>\n",
       "  <tbody>\n",
       "    <tr>\n",
       "      <th>count</th>\n",
       "      <td>61233.000000</td>\n",
       "      <td>61141.000000</td>\n",
       "      <td>4.574100e+04</td>\n",
       "    </tr>\n",
       "    <tr>\n",
       "      <th>mean</th>\n",
       "      <td>0.036647</td>\n",
       "      <td>31.520023</td>\n",
       "      <td>1.475785e+02</td>\n",
       "    </tr>\n",
       "    <tr>\n",
       "      <th>std</th>\n",
       "      <td>0.187895</td>\n",
       "      <td>462.639041</td>\n",
       "      <td>1.664631e+04</td>\n",
       "    </tr>\n",
       "    <tr>\n",
       "      <th>min</th>\n",
       "      <td>0.000000</td>\n",
       "      <td>0.000000</td>\n",
       "      <td>1.160000e+00</td>\n",
       "    </tr>\n",
       "    <tr>\n",
       "      <th>25%</th>\n",
       "      <td>0.000000</td>\n",
       "      <td>1.520000</td>\n",
       "      <td>1.667000e+01</td>\n",
       "    </tr>\n",
       "    <tr>\n",
       "      <th>50%</th>\n",
       "      <td>0.000000</td>\n",
       "      <td>2.513244</td>\n",
       "      <td>3.291000e+01</td>\n",
       "    </tr>\n",
       "    <tr>\n",
       "      <th>75%</th>\n",
       "      <td>0.000000</td>\n",
       "      <td>5.555592</td>\n",
       "      <td>7.000000e+01</td>\n",
       "    </tr>\n",
       "    <tr>\n",
       "      <th>max</th>\n",
       "      <td>1.000000</td>\n",
       "      <td>29500.000000</td>\n",
       "      <td>3.560000e+06</td>\n",
       "    </tr>\n",
       "  </tbody>\n",
       "</table>\n",
       "</div>"
      ],
      "text/plain": [
       "       target_label  ASIN_STATIC_ITEM_PACKAGE_WEIGHT  ASIN_STATIC_LIST_PRICE\n",
       "count  61233.000000                     61141.000000            4.574100e+04\n",
       "mean       0.036647                        31.520023            1.475785e+02\n",
       "std        0.187895                       462.639041            1.664631e+04\n",
       "min        0.000000                         0.000000            1.160000e+00\n",
       "25%        0.000000                         1.520000            1.667000e+01\n",
       "50%        0.000000                         2.513244            3.291000e+01\n",
       "75%        0.000000                         5.555592            7.000000e+01\n",
       "max        1.000000                     29500.000000            3.560000e+06"
      ]
     },
     "execution_count": 4,
     "metadata": {},
     "output_type": "execute_result"
    }
   ],
   "source": [
    "# This prints basic statistics for numerical columns\n",
    "df.describe()"
   ]
  },
  {
   "cell_type": "markdown",
   "metadata": {},
   "source": [
    "Let's choose model features and model target. "
   ]
  },
  {
   "cell_type": "code",
   "execution_count": 5,
   "metadata": {},
   "outputs": [
    {
     "name": "stdout",
     "output_type": "stream",
     "text": [
      "Index(['ASIN', 'target_label', 'ASIN_STATIC_ITEM_NAME',\n",
      "       'ASIN_STATIC_PRODUCT_DESCRIPTION', 'ASIN_STATIC_GL_PRODUCT_GROUP_TYPE',\n",
      "       'ASIN_STATIC_ITEM_PACKAGE_WEIGHT', 'ASIN_STATIC_LIST_PRICE',\n",
      "       'ASIN_STATIC_BATTERIES_INCLUDED', 'ASIN_STATIC_BATTERIES_REQUIRED',\n",
      "       'ASIN_STATIC_ITEM_CLASSIFICATION'],\n",
      "      dtype='object')\n"
     ]
    }
   ],
   "source": [
    "print(df.columns)"
   ]
  },
  {
   "cell_type": "code",
   "execution_count": 6,
   "metadata": {},
   "outputs": [
    {
     "name": "stdout",
     "output_type": "stream",
     "text": [
      "Model features:  Index(['ASIN', 'ASIN_STATIC_ITEM_NAME', 'ASIN_STATIC_PRODUCT_DESCRIPTION',\n",
      "       'ASIN_STATIC_GL_PRODUCT_GROUP_TYPE', 'ASIN_STATIC_ITEM_PACKAGE_WEIGHT',\n",
      "       'ASIN_STATIC_LIST_PRICE', 'ASIN_STATIC_BATTERIES_INCLUDED',\n",
      "       'ASIN_STATIC_BATTERIES_REQUIRED', 'ASIN_STATIC_ITEM_CLASSIFICATION'],\n",
      "      dtype='object')\n",
      "Model target:  target_label\n"
     ]
    }
   ],
   "source": [
    "model_features = df.columns.drop('target_label')\n",
    "model_target = 'target_label'\n",
    "\n",
    "print('Model features: ', model_features)\n",
    "print('Model target: ', model_target)"
   ]
  },
  {
   "cell_type": "markdown",
   "metadata": {},
   "source": [
    "## 3. <a name=\"3\">Basic Plots</a>\n",
    "(<a href=\"#0\">Go to top</a>)\n",
    "\n",
    "In this section, we will further examine our data with plots. Important note: These plots ignore null (missing) values. We will learn how to deal with missing values in the next section.\n",
    "\n",
    "\n",
    "__Bar plots__: These plots show counts of categorical data fields. __value_counts()__ function yields the counts of each unique value. It is useful for categorical variables."
   ]
  },
  {
   "cell_type": "code",
   "execution_count": 7,
   "metadata": {},
   "outputs": [
    {
     "data": {
      "text/plain": [
       "0    58989\n",
       "1     2244\n",
       "Name: target_label, dtype: int64"
      ]
     },
     "execution_count": 7,
     "metadata": {},
     "output_type": "execute_result"
    }
   ],
   "source": [
    "df[model_target].value_counts()"
   ]
  },
  {
   "cell_type": "markdown",
   "metadata": {},
   "source": [
    "__plot.bar()__ addition to the __value_counts()__ function makes a bar plot of the values."
   ]
  },
  {
   "cell_type": "code",
   "execution_count": 8,
   "metadata": {},
   "outputs": [
    {
     "data": {
      "image/png": "[encoded data removed]",
      "text/plain": [
       "<Figure size 432x288 with 1 Axes>"
      ]
     },
     "metadata": {},
     "output_type": "display_data"
    }
   ],
   "source": [
    "import matplotlib.pyplot as plt\n",
    "%matplotlib inline\n",
    "\n",
    "df[model_target].value_counts().plot.bar()\n",
    "plt.show()"
   ]
  },
  {
   "cell_type": "code",
   "execution_count": 9,
   "metadata": {},
   "outputs": [
    {
     "data": {
      "image/png": "[encoded data removed]",
      "text/plain": [
       "<Figure size 432x288 with 1 Axes>"
      ]
     },
     "metadata": {},
     "output_type": "display_data"
    }
   ],
   "source": [
    "import matplotlib.pyplot as plt\n",
    "\n",
    "df['ASIN_STATIC_GL_PRODUCT_GROUP_TYPE'].value_counts().plot.bar()\n",
    "plt.show()"
   ]
  },
  {
   "cell_type": "code",
   "execution_count": 10,
   "metadata": {},
   "outputs": [
    {
     "data": {
      "text/plain": [
       "gl_home                        16221\n",
       "gl_home_improvement             6985\n",
       "gl_sports                       5868\n",
       "gl_toy                          5493\n",
       "gl_automotive                   4435\n",
       "gl_pet_products                 4231\n",
       "gl_office_product               3229\n",
       "gl_lawn_and_garden              2779\n",
       "gl_musical_instruments          2008\n",
       "gl_pc                           1837\n",
       "gl_camera                       1790\n",
       "gl_electronics                  1440\n",
       "gl_baby_product                 1375\n",
       "gl_drugstore                     857\n",
       "gl_wireless                      655\n",
       "gl_personal_care_appliances      643\n",
       "gl_kitchen                       626\n",
       "gl_biss                          259\n",
       "gl_major_appliances              237\n",
       "gl_home_entertainment            116\n",
       "gl_apparel                        58\n",
       "gl_luggage                        34\n",
       "gl_shoes                          22\n",
       "gl_beauty                         20\n",
       "gl_video_games                     7\n",
       "gl_watch                           3\n",
       "gl_book                            3\n",
       "gl_fresh_ambient                   1\n",
       "gl_music                           1\n",
       "Name: ASIN_STATIC_GL_PRODUCT_GROUP_TYPE, dtype: int64"
      ]
     },
     "execution_count": 10,
     "metadata": {},
     "output_type": "execute_result"
    }
   ],
   "source": [
    "df['ASIN_STATIC_GL_PRODUCT_GROUP_TYPE'].value_counts()"
   ]
  },
  {
   "cell_type": "code",
   "execution_count": 11,
   "metadata": {},
   "outputs": [
    {
     "data": {
      "image/png": "[encoded data removed]",
      "text/plain": [
       "<Figure size 432x288 with 1 Axes>"
      ]
     },
     "metadata": {},
     "output_type": "display_data"
    }
   ],
   "source": [
    "df['ASIN_STATIC_BATTERIES_INCLUDED'].value_counts().plot.bar()\n",
    "plt.show()"
   ]
  },
  {
   "cell_type": "code",
   "execution_count": 12,
   "metadata": {},
   "outputs": [
    {
     "data": {
      "image/png": "[encoded data removed]",
      "text/plain": [
       "<Figure size 432x288 with 1 Axes>"
      ]
     },
     "metadata": {},
     "output_type": "display_data"
    }
   ],
   "source": [
    "df['ASIN_STATIC_BATTERIES_REQUIRED'].value_counts().plot.bar()\n",
    "plt.show()"
   ]
  },
  {
   "cell_type": "markdown",
   "metadata": {},
   "source": [
    "__Histograms:__ Histograms show distribution of numeric data. Data is divided into \"buckets\" or \"bins\"."
   ]
  },
  {
   "cell_type": "code",
   "execution_count": 13,
   "metadata": {},
   "outputs": [
    {
     "data": {
      "image/png": "[encoded data removed]",
      "text/plain": [
       "<Figure size 432x288 with 1 Axes>"
      ]
     },
     "metadata": {},
     "output_type": "display_data"
    }
   ],
   "source": [
    "df['ASIN_STATIC_LIST_PRICE'].plot.hist(bins=5)\n",
    "plt.show()"
   ]
  },
  {
   "cell_type": "markdown",
   "metadata": {},
   "source": [
    "When we look at the histogram above, we can see that values are heavily placed in the first bin. Let's check the min-max values below."
   ]
  },
  {
   "cell_type": "code",
   "execution_count": 14,
   "metadata": {},
   "outputs": [
    {
     "data": {
      "text/plain": [
       "1.16"
      ]
     },
     "execution_count": 14,
     "metadata": {},
     "output_type": "execute_result"
    }
   ],
   "source": [
    "df['ASIN_STATIC_LIST_PRICE'].min()"
   ]
  },
  {
   "cell_type": "code",
   "execution_count": 15,
   "metadata": {},
   "outputs": [
    {
     "data": {
      "text/plain": [
       "3560000.0"
      ]
     },
     "execution_count": 15,
     "metadata": {},
     "output_type": "execute_result"
    }
   ],
   "source": [
    "df['ASIN_STATIC_LIST_PRICE'].max()"
   ]
  },
  {
   "cell_type": "markdown",
   "metadata": {},
   "source": [
    "__value_counts()__ function again becomes useful here. Let's increase the number of bins to 10 for more bins. Looking below, we can see that we have an outlier number in the last bin. We have a very expensive item of worth more than __3 million $__ :) \n",
    "\n",
    "This is likely a wrong value. We will drop this record."
   ]
  },
  {
   "cell_type": "code",
   "execution_count": 16,
   "metadata": {},
   "outputs": [
    {
     "data": {
      "text/plain": [
       "(-3558.84, 356001.044]        45740\n",
       "(356001.044, 712000.928]          0\n",
       "(712000.928, 1068000.812]         0\n",
       "(1068000.812, 1424000.696]        0\n",
       "(1424000.696, 1780000.58]         0\n",
       "(1780000.58, 2136000.464]         0\n",
       "(2136000.464, 2492000.348]        0\n",
       "(2492000.348, 2848000.232]        0\n",
       "(2848000.232, 3204000.116]        0\n",
       "(3204000.116, 3560000.0]          1\n",
       "Name: ASIN_STATIC_LIST_PRICE, dtype: int64"
      ]
     },
     "execution_count": 16,
     "metadata": {},
     "output_type": "execute_result"
    }
   ],
   "source": [
    "df['ASIN_STATIC_LIST_PRICE'].value_counts(bins=10, sort=False)"
   ]
  },
  {
   "cell_type": "code",
   "execution_count": 17,
   "metadata": {},
   "outputs": [],
   "source": [
    "dropIndexes = df[df['ASIN_STATIC_LIST_PRICE'] > 3000000].index\n",
    "df.drop(dropIndexes , inplace=True)"
   ]
  },
  {
   "cell_type": "code",
   "execution_count": 18,
   "metadata": {},
   "outputs": [
    {
     "data": {
      "text/plain": [
       "(-13.838999999999999, 1500.944]    45704\n",
       "(1500.944, 3000.728]                  15\n",
       "(3000.728, 4500.512]                   9\n",
       "(4500.512, 6000.296]                   3\n",
       "(6000.296, 7500.08]                    2\n",
       "(7500.08, 8999.864]                    4\n",
       "(8999.864, 10499.648]                  0\n",
       "(10499.648, 11999.432]                 1\n",
       "(11999.432, 13499.216]                 0\n",
       "(13499.216, 14999.0]                   2\n",
       "Name: ASIN_STATIC_LIST_PRICE, dtype: int64"
      ]
     },
     "execution_count": 18,
     "metadata": {},
     "output_type": "execute_result"
    }
   ],
   "source": [
    "df['ASIN_STATIC_LIST_PRICE'].value_counts(bins=10, sort=False)"
   ]
  },
  {
   "cell_type": "markdown",
   "metadata": {},
   "source": [
    "Let' see the histogram again."
   ]
  },
  {
   "cell_type": "code",
   "execution_count": 19,
   "metadata": {},
   "outputs": [
    {
     "data": {
      "image/png": "[encoded data removed]",
      "text/plain": [
       "<Figure size 432x288 with 1 Axes>"
      ]
     },
     "metadata": {},
     "output_type": "display_data"
    }
   ],
   "source": [
    "df['ASIN_STATIC_LIST_PRICE'].plot.hist(bins=100)\n",
    "plt.show()"
   ]
  },
  {
   "cell_type": "code",
   "execution_count": 20,
   "metadata": {},
   "outputs": [
    {
     "data": {
      "image/png": "[encoded data removed]",
      "text/plain": [
       "<Figure size 432x288 with 1 Axes>"
      ]
     },
     "metadata": {},
     "output_type": "display_data"
    }
   ],
   "source": [
    "df['ASIN_STATIC_ITEM_PACKAGE_WEIGHT'].plot.hist(bins=100)\n",
    "plt.show()"
   ]
  },
  {
   "cell_type": "code",
   "execution_count": 21,
   "metadata": {},
   "outputs": [
    {
     "data": {
      "text/plain": [
       "(-29.501, 5900.0]     61064\n",
       "(5900.0, 11800.0]        51\n",
       "(11800.0, 17700.0]       20\n",
       "(17700.0, 23600.0]        1\n",
       "(23600.0, 29500.0]        4\n",
       "Name: ASIN_STATIC_ITEM_PACKAGE_WEIGHT, dtype: int64"
      ]
     },
     "execution_count": 21,
     "metadata": {},
     "output_type": "execute_result"
    }
   ],
   "source": [
    "df['ASIN_STATIC_ITEM_PACKAGE_WEIGHT'].value_counts(bins=5, sort=False)"
   ]
  },
  {
   "cell_type": "markdown",
   "metadata": {},
   "source": [
    "## 4. <a name=\"4\">Scatter Plots and Correlation</a>\n",
    "(<a href=\"#0\">Go to top</a>)\n",
    "\n",
    "### Scatter plot\n",
    "Scatter plots are simple 2D plots of two numerical variables that can be used to examine the relationship between two variables. Below, we are plotting __ASIN_STATIC_ITEM_PACKAGE_WEIGHT__ vs. __ASIN_STATIC_LIST_PRICE__. "
   ]
  },
  {
   "cell_type": "code",
   "execution_count": 22,
   "metadata": {},
   "outputs": [
    {
     "data": {
      "image/png": "[encoded data removed]",
      "text/plain": [
       "<Figure size 432x288 with 1 Axes>"
      ]
     },
     "metadata": {},
     "output_type": "display_data"
    }
   ],
   "source": [
    "%matplotlib inline\n",
    "import matplotlib.pyplot as plt\n",
    "\n",
    "df.plot.scatter(x='ASIN_STATIC_ITEM_PACKAGE_WEIGHT', y='ASIN_STATIC_LIST_PRICE')\n",
    "plt.show()"
   ]
  },
  {
   "cell_type": "markdown",
   "metadata": {},
   "source": [
    "From this scatter plot, we cannot see a relationship between these two variables. "
   ]
  },
  {
   "cell_type": "markdown",
   "metadata": {},
   "source": [
    "### Scatterplot with Identification\n",
    "\n",
    "We can also add the target values, \"Plug\" or \"No plug\", to our scatter plot."
   ]
  },
  {
   "cell_type": "code",
   "execution_count": 23,
   "metadata": {},
   "outputs": [
    {
     "data": {
      "image/png": "[encoded data removed]",
      "text/plain": [
       "<Figure size 432x288 with 1 Axes>"
      ]
     },
     "metadata": {},
     "output_type": "display_data"
    }
   ],
   "source": [
    "import seaborn as sns\n",
    "\n",
    "X1 = df[['ASIN_STATIC_ITEM_PACKAGE_WEIGHT', 'ASIN_STATIC_LIST_PRICE']][df['target_label'] == 0]\n",
    "X2 = df[['ASIN_STATIC_ITEM_PACKAGE_WEIGHT', 'ASIN_STATIC_LIST_PRICE']][df['target_label'] == 1]\n",
    "\n",
    "plt.scatter(X1.iloc[:,0], \n",
    "            X1.iloc[:,1], \n",
    "            s=50, \n",
    "            c='blue', \n",
    "            marker='o', \n",
    "            label='No Plug')\n",
    "\n",
    "plt.scatter(X2.iloc[:,0], \n",
    "            X2.iloc[:,1], \n",
    "            s=50, \n",
    "            c='red', \n",
    "            marker='v', \n",
    "            label='Plug')\n",
    "\n",
    "plt.xlabel('Package weight')\n",
    "plt.ylabel('List price')\n",
    "plt.legend()\n",
    "plt.grid()\n",
    "plt.show()"
   ]
  },
  {
   "cell_type": "markdown",
   "metadata": {},
   "source": [
    "From this plot, we notice that we can't get a good separation between the data points, based on these two numerical features alone. "
   ]
  },
  {
   "cell_type": "markdown",
   "metadata": {},
   "source": [
    "### Correlation Matrix Heatmat\n",
    "We plot the correlation matrix. Correlation scores are calculated for numerical fields. For that reason, we will only pick the numerical fields: __ASIN_STATIC_ITEM_PACKAGE_WEIGHT__ and __ASIN_STATIC_LIST_PRICE__."
   ]
  },
  {
   "cell_type": "code",
   "execution_count": 24,
   "metadata": {},
   "outputs": [
    {
     "data": {
      "text/html": [
       "<style  type=\"text/css\" >\n",
       "    #T_f8ae891c_a490_11ea_af85_0224e5c75a53row0_col0 {\n",
       "            background-color:  #d9d9d9;\n",
       "            color:  #000000;\n",
       "        }    #T_f8ae891c_a490_11ea_af85_0224e5c75a53row0_col1 {\n",
       "            background-color:  #3182bd;\n",
       "            color:  #000000;\n",
       "        }    #T_f8ae891c_a490_11ea_af85_0224e5c75a53row1_col0 {\n",
       "            background-color:  #3182bd;\n",
       "            color:  #000000;\n",
       "        }    #T_f8ae891c_a490_11ea_af85_0224e5c75a53row1_col1 {\n",
       "            background-color:  #d9d9d9;\n",
       "            color:  #000000;\n",
       "        }</style><table id=\"T_f8ae891c_a490_11ea_af85_0224e5c75a53\" ><thead>    <tr>        <th class=\"blank level0\" ></th>        <th class=\"col_heading level0 col0\" >ASIN_STATIC_ITEM_PACKAGE_WEIGHT</th>        <th class=\"col_heading level0 col1\" >ASIN_STATIC_LIST_PRICE</th>    </tr></thead><tbody>\n",
       "                <tr>\n",
       "                        <th id=\"T_f8ae891c_a490_11ea_af85_0224e5c75a53level0_row0\" class=\"row_heading level0 row0\" >ASIN_STATIC_ITEM_PACKAGE_WEIGHT</th>\n",
       "                        <td id=\"T_f8ae891c_a490_11ea_af85_0224e5c75a53row0_col0\" class=\"data row0 col0\" >1</td>\n",
       "                        <td id=\"T_f8ae891c_a490_11ea_af85_0224e5c75a53row0_col1\" class=\"data row0 col1\" >0.0128493</td>\n",
       "            </tr>\n",
       "            <tr>\n",
       "                        <th id=\"T_f8ae891c_a490_11ea_af85_0224e5c75a53level0_row1\" class=\"row_heading level0 row1\" >ASIN_STATIC_LIST_PRICE</th>\n",
       "                        <td id=\"T_f8ae891c_a490_11ea_af85_0224e5c75a53row1_col0\" class=\"data row1 col0\" >0.0128493</td>\n",
       "                        <td id=\"T_f8ae891c_a490_11ea_af85_0224e5c75a53row1_col1\" class=\"data row1 col1\" >1</td>\n",
       "            </tr>\n",
       "    </tbody></table>"
      ],
      "text/plain": [
       "<pandas.io.formats.style.Styler at 0x7f1ca09e1550>"
      ]
     },
     "execution_count": 24,
     "metadata": {},
     "output_type": "execute_result"
    }
   ],
   "source": [
    "cols = ['ASIN_STATIC_ITEM_PACKAGE_WEIGHT', 'ASIN_STATIC_LIST_PRICE']\n",
    "#print(df[cols].corr())\n",
    "df[cols].corr().style.background_gradient(cmap='tab20c')"
   ]
  },
  {
   "cell_type": "markdown",
   "metadata": {},
   "source": [
    "From the correlation matrix, we can see that there is no relationship between listing price and item package weight."
   ]
  },
  {
   "cell_type": "markdown",
   "metadata": {},
   "source": [
    "### A fancy example using Seaborn\n",
    "Simulating a dataset with some correlations we can show a fancy example below for 26 dimensions."
   ]
  },
  {
   "cell_type": "code",
   "execution_count": 25,
   "metadata": {},
   "outputs": [
    {
     "data": {
      "text/plain": [
       "<matplotlib.axes._subplots.AxesSubplot at 0x7f1c95511198>"
      ]
     },
     "execution_count": 25,
     "metadata": {},
     "output_type": "execute_result"
    },
    {
     "data": {
      "image/png": "[encoded data removed]",
      "text/plain": [
       "<Figure size 792x648 with 2 Axes>"
      ]
     },
     "metadata": {},
     "output_type": "display_data"
    }
   ],
   "source": [
    "from string import ascii_letters\n",
    "import numpy as np\n",
    "import pandas as pd\n",
    "import seaborn as sns\n",
    "import matplotlib.pyplot as plt\n",
    "\n",
    "sns.set(style=\"white\")\n",
    "\n",
    "# Generate a large random dataset\n",
    "rs = np.random.RandomState(33)\n",
    "d = pd.DataFrame(data=rs.normal(size=(100, 26)),\n",
    "                 columns=list(ascii_letters[26:]))\n",
    "\n",
    "# Compute the correlation matrix\n",
    "corr = d.corr()\n",
    "\n",
    "# Generate a mask for the upper triangle\n",
    "mask = np.triu(np.ones_like(corr, dtype=np.bool))\n",
    "\n",
    "# Set up the matplotlib figure\n",
    "f, ax = plt.subplots(figsize=(11, 9))\n",
    "\n",
    "# Generate a custom diverging colormap\n",
    "cmap = sns.diverging_palette(220, 10, as_cmap=True)\n",
    "\n",
    "# Draw the heatmap with the mask and correct aspect ratio\n",
    "sns.heatmap(corr, mask=mask, cmap=cmap, vmax=.3, center=0,\n",
    "            square=True, linewidths=.5, cbar_kws={\"shrink\": .5})"
   ]
  },
  {
   "cell_type": "markdown",
   "metadata": {},
   "source": [
    "## 5. <a name=\"5\">Handling Missing Values</a>\n",
    "(<a href=\"#0\">Go to top</a>)\n",
    "\n",
    "  * <a href=\"#51\">Drop columns with missing values</a>\n",
    "  * <a href=\"#52\">Drop rows with missing values</a>\n",
    "  * <a href=\"#53\"> Impute (fill-in) missing values with .fillna()</a>\n",
    "  * <a href=\"#54\"> Impute (fill-in) missing values with sklearn's SimpleImputer</a>\n",
    "\n",
    "Let's first check the number of missing (nan) values for each column."
   ]
  },
  {
   "cell_type": "code",
   "execution_count": 26,
   "metadata": {},
   "outputs": [
    {
     "data": {
      "text/plain": [
       "ASIN                                     0\n",
       "target_label                             0\n",
       "ASIN_STATIC_ITEM_NAME                    0\n",
       "ASIN_STATIC_PRODUCT_DESCRIPTION      25972\n",
       "ASIN_STATIC_GL_PRODUCT_GROUP_TYPE        0\n",
       "ASIN_STATIC_ITEM_PACKAGE_WEIGHT         92\n",
       "ASIN_STATIC_LIST_PRICE               15492\n",
       "ASIN_STATIC_BATTERIES_INCLUDED       11175\n",
       "ASIN_STATIC_BATTERIES_REQUIRED       16004\n",
       "ASIN_STATIC_ITEM_CLASSIFICATION         12\n",
       "dtype: int64"
      ]
     },
     "execution_count": 26,
     "metadata": {},
     "output_type": "execute_result"
    }
   ],
   "source": [
    "df.isna().sum()"
   ]
  },
  {
   "cell_type": "markdown",
   "metadata": {},
   "source": [
    "There are quite a few values missing on many columns, of both numerical and categorical types. Let's explore a few options dealing with missing values."
   ]
  },
  {
   "cell_type": "markdown",
   "metadata": {},
   "source": [
    "### <a name=\"51\">Drop columns with missing values</a>\n",
    "(<a href=\"#5\">Go to Handling Missing Values</a>)\n",
    "\n",
    "We can drop some columns if we think there is siginificant amount of missing data in those columns.\n",
    "\n",
    "__Hint:__ You can also use __inplace=True__ parameter to drop columns inplace without assignment.\n"
   ]
  },
  {
   "cell_type": "code",
   "execution_count": 27,
   "metadata": {},
   "outputs": [
    {
     "data": {
      "text/html": [
       "<div>\n",
       "<style scoped>\n",
       "    .dataframe tbody tr th:only-of-type {\n",
       "        vertical-align: middle;\n",
       "    }\n",
       "\n",
       "    .dataframe tbody tr th {\n",
       "        vertical-align: top;\n",
       "    }\n",
       "\n",
       "    .dataframe thead th {\n",
       "        text-align: right;\n",
       "    }\n",
       "</style>\n",
       "<table border=\"1\" class=\"dataframe\">\n",
       "  <thead>\n",
       "    <tr style=\"text-align: right;\">\n",
       "      <th></th>\n",
       "      <th>ASIN</th>\n",
       "      <th>target_label</th>\n",
       "      <th>ASIN_STATIC_ITEM_NAME</th>\n",
       "      <th>ASIN_STATIC_GL_PRODUCT_GROUP_TYPE</th>\n",
       "      <th>ASIN_STATIC_ITEM_PACKAGE_WEIGHT</th>\n",
       "      <th>ASIN_STATIC_ITEM_CLASSIFICATION</th>\n",
       "    </tr>\n",
       "  </thead>\n",
       "  <tbody>\n",
       "    <tr>\n",
       "      <th>0</th>\n",
       "      <td>B004U9MOWO</td>\n",
       "      <td>0</td>\n",
       "      <td>Master Lock 8 X 900 mm Chain Integrated 4 Digi...</td>\n",
       "      <td>gl_sports</td>\n",
       "      <td>2.650000</td>\n",
       "      <td>base_product</td>\n",
       "    </tr>\n",
       "    <tr>\n",
       "      <th>1</th>\n",
       "      <td>B006OJWZMW</td>\n",
       "      <td>0</td>\n",
       "      <td>In Phase SRX-EQ 10 Band Parametric Equalizer w...</td>\n",
       "      <td>gl_wireless</td>\n",
       "      <td>1.680000</td>\n",
       "      <td>base_product</td>\n",
       "    </tr>\n",
       "    <tr>\n",
       "      <th>2</th>\n",
       "      <td>B00008VIJ4</td>\n",
       "      <td>0</td>\n",
       "      <td>Technics RPDJ1210 DJ Headphones - Silver</td>\n",
       "      <td>gl_home_entertainment</td>\n",
       "      <td>1.455036</td>\n",
       "      <td>base_product</td>\n",
       "    </tr>\n",
       "    <tr>\n",
       "      <th>3</th>\n",
       "      <td>B005433T4M</td>\n",
       "      <td>0</td>\n",
       "      <td>Heartwarmers Coming Home Padded Lap Tray, 42 x...</td>\n",
       "      <td>gl_home</td>\n",
       "      <td>1.763680</td>\n",
       "      <td>base_product</td>\n",
       "    </tr>\n",
       "    <tr>\n",
       "      <th>4</th>\n",
       "      <td>B0073CN63Q</td>\n",
       "      <td>0</td>\n",
       "      <td>Douceur D'Intérieur  - 1600728, Curtain With E...</td>\n",
       "      <td>gl_home</td>\n",
       "      <td>2.292784</td>\n",
       "      <td>base_product</td>\n",
       "    </tr>\n",
       "  </tbody>\n",
       "</table>\n",
       "</div>"
      ],
      "text/plain": [
       "         ASIN  target_label  \\\n",
       "0  B004U9MOWO             0   \n",
       "1  B006OJWZMW             0   \n",
       "2  B00008VIJ4             0   \n",
       "3  B005433T4M             0   \n",
       "4  B0073CN63Q             0   \n",
       "\n",
       "                               ASIN_STATIC_ITEM_NAME  \\\n",
       "0  Master Lock 8 X 900 mm Chain Integrated 4 Digi...   \n",
       "1  In Phase SRX-EQ 10 Band Parametric Equalizer w...   \n",
       "2           Technics RPDJ1210 DJ Headphones - Silver   \n",
       "3  Heartwarmers Coming Home Padded Lap Tray, 42 x...   \n",
       "4  Douceur D'Intérieur  - 1600728, Curtain With E...   \n",
       "\n",
       "  ASIN_STATIC_GL_PRODUCT_GROUP_TYPE  ASIN_STATIC_ITEM_PACKAGE_WEIGHT  \\\n",
       "0                         gl_sports                         2.650000   \n",
       "1                       gl_wireless                         1.680000   \n",
       "2             gl_home_entertainment                         1.455036   \n",
       "3                           gl_home                         1.763680   \n",
       "4                           gl_home                         2.292784   \n",
       "\n",
       "  ASIN_STATIC_ITEM_CLASSIFICATION  \n",
       "0                    base_product  \n",
       "1                    base_product  \n",
       "2                    base_product  \n",
       "3                    base_product  \n",
       "4                    base_product  "
      ]
     },
     "execution_count": 27,
     "metadata": {},
     "output_type": "execute_result"
    }
   ],
   "source": [
    "df_columns_dropped = df.drop(columns = [\"ASIN_STATIC_PRODUCT_DESCRIPTION\", \n",
    "                                        \"ASIN_STATIC_LIST_PRICE\",\n",
    "                                        \"ASIN_STATIC_BATTERIES_INCLUDED\",\n",
    "                                        \"ASIN_STATIC_BATTERIES_REQUIRED\"\n",
    "                                       ])  \n",
    "df_columns_dropped.head()"
   ]
  },
  {
   "cell_type": "code",
   "execution_count": 28,
   "metadata": {},
   "outputs": [
    {
     "data": {
      "text/plain": [
       "ASIN                                  0\n",
       "target_label                          0\n",
       "ASIN_STATIC_ITEM_NAME                 0\n",
       "ASIN_STATIC_GL_PRODUCT_GROUP_TYPE     0\n",
       "ASIN_STATIC_ITEM_PACKAGE_WEIGHT      92\n",
       "ASIN_STATIC_ITEM_CLASSIFICATION      12\n",
       "dtype: int64"
      ]
     },
     "execution_count": 28,
     "metadata": {},
     "output_type": "execute_result"
    }
   ],
   "source": [
    "df_columns_dropped.isna().sum()"
   ]
  },
  {
   "cell_type": "code",
   "execution_count": 29,
   "metadata": {},
   "outputs": [
    {
     "data": {
      "text/plain": [
       "(61232, 6)"
      ]
     },
     "execution_count": 29,
     "metadata": {},
     "output_type": "execute_result"
    }
   ],
   "source": [
    "df_columns_dropped.shape"
   ]
  },
  {
   "cell_type": "markdown",
   "metadata": {},
   "source": [
    "Note the reduced size of the dataset features, from 10 to 6. This can sometimes lead to underfitting models -- not having enough features to build a good model able to capture the pattern in the dataset, especially when dropping features that are essential to the task at hand. "
   ]
  },
  {
   "cell_type": "markdown",
   "metadata": {},
   "source": [
    "### <a name=\"52\">Drop rows with missing values</a>\n",
    "(<a href=\"#5\">Go to Handling Missing Values</a>)\n",
    "\n",
    "Here, we simply drop rows that have at least one missing value. There are other drop options to explore, depending on specific problems."
   ]
  },
  {
   "cell_type": "code",
   "execution_count": 30,
   "metadata": {},
   "outputs": [],
   "source": [
    "df_missing_dropped = df.dropna()"
   ]
  },
  {
   "cell_type": "markdown",
   "metadata": {},
   "source": [
    "Let's check the missing values below."
   ]
  },
  {
   "cell_type": "code",
   "execution_count": 31,
   "metadata": {
    "scrolled": false
   },
   "outputs": [
    {
     "data": {
      "text/plain": [
       "ASIN                                 0\n",
       "target_label                         0\n",
       "ASIN_STATIC_ITEM_NAME                0\n",
       "ASIN_STATIC_PRODUCT_DESCRIPTION      0\n",
       "ASIN_STATIC_GL_PRODUCT_GROUP_TYPE    0\n",
       "ASIN_STATIC_ITEM_PACKAGE_WEIGHT      0\n",
       "ASIN_STATIC_LIST_PRICE               0\n",
       "ASIN_STATIC_BATTERIES_INCLUDED       0\n",
       "ASIN_STATIC_BATTERIES_REQUIRED       0\n",
       "ASIN_STATIC_ITEM_CLASSIFICATION      0\n",
       "dtype: int64"
      ]
     },
     "execution_count": 31,
     "metadata": {},
     "output_type": "execute_result"
    }
   ],
   "source": [
    "df_missing_dropped.isna().sum()"
   ]
  },
  {
   "cell_type": "code",
   "execution_count": 32,
   "metadata": {},
   "outputs": [
    {
     "data": {
      "text/plain": [
       "(20210, 10)"
      ]
     },
     "execution_count": 32,
     "metadata": {},
     "output_type": "execute_result"
    }
   ],
   "source": [
    "df_missing_dropped.shape"
   ]
  },
  {
   "cell_type": "markdown",
   "metadata": {},
   "source": [
    "The number of data samples reduced dramatically. This can sometimes lead to overfitting models -- especially when the number of features is greater or comparable to the number of data samples. "
   ]
  },
  {
   "cell_type": "markdown",
   "metadata": {},
   "source": [
    "### <a name=\"53\">Impute (fill-in) missing values with .fillna()</a>\n",
    "(<a href=\"#5\">Go to Handling Missing Values</a>)\n",
    "\n",
    "__Imputing Numerical Values:__ The easiest way to impute numerical values is to get the __average (mean) value__ for the corresponding column and use that as the new value for each missing record in that column. "
   ]
  },
  {
   "cell_type": "code",
   "execution_count": 33,
   "metadata": {},
   "outputs": [
    {
     "name": "stdout",
     "output_type": "stream",
     "text": [
      "ASIN_STATIC_ITEM_PACKAGE_WEIGHT       92\n",
      "ASIN_STATIC_LIST_PRICE             15492\n",
      "dtype: int64\n",
      "ASIN_STATIC_ITEM_PACKAGE_WEIGHT    0\n",
      "ASIN_STATIC_LIST_PRICE             0\n",
      "dtype: int64\n"
     ]
    }
   ],
   "source": [
    "# Impute our two numerical features by using the mean per feature to replace the nans\n",
    "numerical_features = [\"ASIN_STATIC_ITEM_PACKAGE_WEIGHT\", \"ASIN_STATIC_LIST_PRICE\"]\n",
    "\n",
    "# Assign our df to a new df \n",
    "df_imputed = df.copy()\n",
    "print(df_imputed[numerical_features].isna().sum())\n",
    "\n",
    "# Impute our two numerical features with the means. \n",
    "df_imputed[numerical_features] = df_imputed[numerical_features].fillna(df_imputed[numerical_features].mean())\n",
    "\n",
    "print(df_imputed[numerical_features].isna().sum())"
   ]
  },
  {
   "cell_type": "markdown",
   "metadata": {},
   "source": [
    "__Imputing Categorical Values:__ We can impute categorical values by getting the most common (mode) value for the corresponding column and use that as the new value for each missing record in that column. "
   ]
  },
  {
   "cell_type": "code",
   "execution_count": 34,
   "metadata": {},
   "outputs": [
    {
     "name": "stdout",
     "output_type": "stream",
     "text": [
      "ASIN_STATIC_BATTERIES_INCLUDED    11175\n",
      "ASIN_STATIC_BATTERIES_REQUIRED    16004\n",
      "dtype: int64\n",
      "  ASIN_STATIC_BATTERIES_INCLUDED ASIN_STATIC_BATTERIES_REQUIRED\n",
      "0                          False                          False\n",
      "ASIN_STATIC_BATTERIES_INCLUDED    0\n",
      "ASIN_STATIC_BATTERIES_REQUIRED    0\n",
      "dtype: int64\n"
     ]
    }
   ],
   "source": [
    "# Impute two categorical features by using the mode per feature to replace the nans\n",
    "categorical_features_0 = [\"ASIN_STATIC_BATTERIES_INCLUDED\", \"ASIN_STATIC_BATTERIES_REQUIRED\"]\n",
    "\n",
    "# Assign our df to a new df \n",
    "df_imputed_c = df.copy()\n",
    "print(df_imputed_c[categorical_features_0].isna().sum())\n",
    "\n",
    "# Find the mode per each feature\n",
    "mode_impute = df_imputed_c[categorical_features_0].mode()\n",
    "print(mode_impute)\n",
    "\n",
    "# Impute our two categorical features with the computed. \n",
    "# \"inplace=True\" parameter replaces missing values in place (no need for left handside assignment)\n",
    "df_imputed_c[\"ASIN_STATIC_BATTERIES_INCLUDED\"].fillna(False, inplace = True)\n",
    "df_imputed_c[\"ASIN_STATIC_BATTERIES_REQUIRED\"].fillna(False, inplace = True)\n",
    "\n",
    "print(df_imputed_c[categorical_features_0].isna().sum())"
   ]
  },
  {
   "cell_type": "markdown",
   "metadata": {},
   "source": [
    "We can also create a new category such as \"Missing\" for selected categorical features."
   ]
  },
  {
   "cell_type": "code",
   "execution_count": 35,
   "metadata": {},
   "outputs": [
    {
     "name": "stdout",
     "output_type": "stream",
     "text": [
      "ASIN_STATIC_BATTERIES_INCLUDED     11175\n",
      "ASIN_STATIC_BATTERIES_REQUIRED     16004\n",
      "ASIN_STATIC_PRODUCT_DESCRIPTION    25972\n",
      "ASIN_STATIC_ITEM_CLASSIFICATION       12\n",
      "dtype: int64\n",
      "ASIN_STATIC_BATTERIES_INCLUDED     0\n",
      "ASIN_STATIC_BATTERIES_REQUIRED     0\n",
      "ASIN_STATIC_PRODUCT_DESCRIPTION    0\n",
      "ASIN_STATIC_ITEM_CLASSIFICATION    0\n",
      "dtype: int64\n"
     ]
    }
   ],
   "source": [
    "# Impute two categorical features by using the mode per feature to replace the nans\n",
    "categorical_features = [\"ASIN_STATIC_BATTERIES_INCLUDED\", \n",
    "                  \"ASIN_STATIC_BATTERIES_REQUIRED\",\n",
    "                  \"ASIN_STATIC_PRODUCT_DESCRIPTION\", \n",
    "                  \"ASIN_STATIC_ITEM_CLASSIFICATION\"]\n",
    "\n",
    "print(df_imputed[categorical_features].isna().sum())\n",
    "\n",
    "# Impute our categorical features with a new category named \"Missing\". \n",
    "df_imputed[categorical_features] = df_imputed[categorical_features].fillna(\"Missing\")\n",
    "\n",
    "print(df_imputed[categorical_features].isna().sum())\n"
   ]
  },
  {
   "cell_type": "markdown",
   "metadata": {},
   "source": [
    "Let's check again all missing values below."
   ]
  },
  {
   "cell_type": "code",
   "execution_count": 36,
   "metadata": {
    "scrolled": true
   },
   "outputs": [
    {
     "data": {
      "text/plain": [
       "ASIN                                 0\n",
       "target_label                         0\n",
       "ASIN_STATIC_ITEM_NAME                0\n",
       "ASIN_STATIC_PRODUCT_DESCRIPTION      0\n",
       "ASIN_STATIC_GL_PRODUCT_GROUP_TYPE    0\n",
       "ASIN_STATIC_ITEM_PACKAGE_WEIGHT      0\n",
       "ASIN_STATIC_LIST_PRICE               0\n",
       "ASIN_STATIC_BATTERIES_INCLUDED       0\n",
       "ASIN_STATIC_BATTERIES_REQUIRED       0\n",
       "ASIN_STATIC_ITEM_CLASSIFICATION      0\n",
       "dtype: int64"
      ]
     },
     "execution_count": 36,
     "metadata": {},
     "output_type": "execute_result"
    }
   ],
   "source": [
    "df_imputed.isna().sum()"
   ]
  },
  {
   "cell_type": "markdown",
   "metadata": {},
   "source": [
    "### <a name=\"54\">Impute (fill-in) missing values with sklearn's __SimpleImputer__</a>\n",
    "(<a href=\"#5\">Go to Handling Missing Values</a>)\n",
    "\n",
    "A more elegant way to implement imputation is using sklearn's __SimpleImputer__, a class implementing .fit() and .transform() methods.\n"
   ]
  },
  {
   "cell_type": "code",
   "execution_count": 37,
   "metadata": {},
   "outputs": [
    {
     "name": "stdout",
     "output_type": "stream",
     "text": [
      "ASIN_STATIC_ITEM_PACKAGE_WEIGHT       92\n",
      "ASIN_STATIC_LIST_PRICE             15492\n",
      "dtype: int64\n",
      "ASIN_STATIC_ITEM_PACKAGE_WEIGHT    0\n",
      "ASIN_STATIC_LIST_PRICE             0\n",
      "dtype: int64\n"
     ]
    }
   ],
   "source": [
    "# Impute our two numerical columns by using the mean per column to replace the nans\n",
    "numerical_features = [\"ASIN_STATIC_ITEM_PACKAGE_WEIGHT\", \"ASIN_STATIC_LIST_PRICE\"]\n",
    "\n",
    "from sklearn.impute import SimpleImputer\n",
    "\n",
    "# Assign our df to a new df\n",
    "df_sklearn_imputed = df.copy()\n",
    "print(df_sklearn_imputed[numerical_features].isna().sum())\n",
    "\n",
    "imputer = SimpleImputer(strategy='mean')\n",
    "df_sklearn_imputed[numerical_features] = imputer.fit_transform(df_sklearn_imputed[numerical_features])\n",
    "\n",
    "print(df_sklearn_imputed[numerical_features].isna().sum())"
   ]
  },
  {
   "cell_type": "code",
   "execution_count": 38,
   "metadata": {},
   "outputs": [
    {
     "name": "stdout",
     "output_type": "stream",
     "text": [
      "ASIN_STATIC_BATTERIES_INCLUDED    11175\n",
      "ASIN_STATIC_BATTERIES_REQUIRED    16004\n",
      "dtype: int64\n",
      "ASIN_STATIC_BATTERIES_INCLUDED    0\n",
      "ASIN_STATIC_BATTERIES_REQUIRED    0\n",
      "dtype: int64\n"
     ]
    }
   ],
   "source": [
    "# Impute two categorical columns by using the mode per column to replace the nans\n",
    "categorical_features_0 = [\"ASIN_STATIC_BATTERIES_INCLUDED\", \"ASIN_STATIC_BATTERIES_REQUIRED\"]\n",
    "\n",
    "from sklearn.impute import SimpleImputer\n",
    "\n",
    "# Assign our df to a new df\n",
    "df_sklearn_imputer = df.copy()\n",
    "print(df_sklearn_imputer[categorical_features_0].isna().sum())\n",
    "\n",
    "imputer = SimpleImputer(strategy='most_frequent')\n",
    "df_sklearn_imputer[categorical_features_0] = imputer.fit_transform(df_sklearn_imputer[categorical_features_0])\n",
    "\n",
    "print(df_sklearn_imputer[categorical_features_0].isna().sum())"
   ]
  },
  {
   "cell_type": "code",
   "execution_count": 39,
   "metadata": {},
   "outputs": [
    {
     "name": "stdout",
     "output_type": "stream",
     "text": [
      "ASIN_STATIC_BATTERIES_INCLUDED     11175\n",
      "ASIN_STATIC_BATTERIES_REQUIRED     16004\n",
      "ASIN_STATIC_PRODUCT_DESCRIPTION    25972\n",
      "ASIN_STATIC_ITEM_CLASSIFICATION       12\n",
      "dtype: int64\n",
      "ASIN_STATIC_BATTERIES_INCLUDED     0\n",
      "ASIN_STATIC_BATTERIES_REQUIRED     0\n",
      "ASIN_STATIC_PRODUCT_DESCRIPTION    0\n",
      "ASIN_STATIC_ITEM_CLASSIFICATION    0\n",
      "dtype: int64\n"
     ]
    }
   ],
   "source": [
    "# Impute categorical columns by using a placeholder \"Missing\"\n",
    "categorical_features = [\"ASIN_STATIC_BATTERIES_INCLUDED\", \n",
    "                  \"ASIN_STATIC_BATTERIES_REQUIRED\",\n",
    "                  \"ASIN_STATIC_PRODUCT_DESCRIPTION\", \n",
    "                  \"ASIN_STATIC_ITEM_CLASSIFICATION\"]\n",
    "\n",
    "from sklearn.impute import SimpleImputer\n",
    "\n",
    "# Assign our df to a new df\n",
    "df_sklearn_imputer = df.copy()\n",
    "print(df_sklearn_imputer[categorical_features].isna().sum())\n",
    "\n",
    "imputer = SimpleImputer(strategy='constant', fill_value = \"Missing\")\n",
    "df_sklearn_imputer[categorical_features] = imputer.fit_transform(df_sklearn_imputer[categorical_features])\n",
    "\n",
    "print(df_sklearn_imputer[categorical_features].isna().sum())"
   ]
  }
 ],
 "metadata": {
  "kernelspec": {
   "display_name": "conda_mxnet_p36",
   "language": "python",
   "name": "conda_mxnet_p36"
  },
  "language_info": {
   "codemirror_mode": {
    "name": "ipython",
    "version": 3
   },
   "file_extension": ".py",
   "mimetype": "text/x-python",
   "name": "python",
   "nbconvert_exporter": "python",
   "pygments_lexer": "ipython3",
   "version": "3.6.10"
  }
 },
 "nbformat": 4,
 "nbformat_minor": 2
}
